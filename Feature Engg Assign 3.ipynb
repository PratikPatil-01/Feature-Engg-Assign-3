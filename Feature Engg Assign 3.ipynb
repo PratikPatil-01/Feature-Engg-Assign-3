{
 "cells": [
  {
   "cell_type": "markdown",
   "id": "5baef09a-ba07-4bf9-b4a1-d66514ee9c36",
   "metadata": {},
   "source": [
    "1) \n",
    "</br>\n",
    "Min-Max scaling, also known as normalization, is a common data preprocessing technique used to rescale numerical features within a specific range. It transforms the values of a feature to a fixed range, typically between 0 and 1, based on the minimum and maximum values observed in the dataset.\n",
    "</br>\n",
    "X \n",
    "</br>\n",
    "scaled = X max−X min/X−X min"
   ]
  },
  {
   "cell_type": "code",
   "execution_count": null,
   "id": "fd9b2f73-77dc-47da-be9b-6f1b1fec77fd",
   "metadata": {},
   "outputs": [],
   "source": []
  },
  {
   "cell_type": "markdown",
   "id": "d39c58f9-6cd7-4e8c-9488-b35cc6f0a803",
   "metadata": {},
   "source": [
    "2) \n",
    "</br>The Unit Vector technique, also known as normalization or feature scaling, rescales the features of a dataset to have a unit norm. Unlike Min-Max scaling, which scales the features to a specific range, the Unit Vector technique focuses on the direction or magnitude of the feature vectors.\n",
    "</br>\n",
    "X \n",
    "</br>\n",
    "scaled = X / ∥X∥\n",
    "</br>\n",
    "X is the original feature vector\n",
    "X scaled is the scaled feature vector."
   ]
  },
  {
   "cell_type": "code",
   "execution_count": null,
   "id": "bbd3def4-1762-4431-bf6c-a78f2abec8ba",
   "metadata": {},
   "outputs": [],
   "source": []
  },
  {
   "cell_type": "markdown",
   "id": "7d8c41f6-6a3e-4387-b9fb-019220bbe279",
   "metadata": {},
   "source": [
    "3) \n",
    "</br>\n",
    "CA (Principal Component Analysis) is a statistical technique used for dimensionality reduction. It aims to transform a high-dimensional dataset into a lower-dimensional space while preserving the most important information or patterns present in the original data.\n",
    "</br>\n",
    "The key idea behind PCA is to find a new set of variables, called principal components, that are linear combinations of the original variables. These principal components are orthogonal to each other and capture the maximum amount of variance in the data. The first principal component explains the largest possible variance, followed by the second principal component, and so on.\n",
    "</br>\n",
    "The steps involved in performing PCA for dimensionality reduction are as follows:\n",
    "</br>\n",
    "Standardize the data: If the original variables have different scales, it is important to standardize them to have zero mean and unit variance. This step ensures that variables with larger scales do not dominate the PCA results.\n",
    "</br>\n",
    "Compute the covariance matrix: Calculate the covariance matrix of the standardized data. The covariance matrix shows the relationships between the different variables in the dataset.\n",
    "</br>\n",
    "Compute the eigenvectors and eigenvalues: Find the eigenvectors and eigenvalues of the covariance matrix. The eigenvectors represent the principal components, and the eigenvalues indicate the amount of variance explained by each principal component. Higher eigenvalues correspond to more important principal components.\n",
    "</br>\n",
    "Select the number of principal components: Decide on the number of principal components to retain based on the cumulative explained variance or a desired level of variance retention. Retaining a sufficient number of principal components ensures that most of the information in the original data is preserved.\n",
    "</br>\n",
    "Project the data onto the selected principal components: Transform the original data onto the selected principal components to obtain a reduced-dimensional representation of the data."
   ]
  },
  {
   "cell_type": "code",
   "execution_count": null,
   "id": "a6ca760c-eeda-4c0d-bfa8-1c8e55d3599d",
   "metadata": {},
   "outputs": [],
   "source": []
  },
  {
   "cell_type": "markdown",
   "id": "a0a89aa9-7f46-4604-8af1-a8ac7bca7698",
   "metadata": {},
   "source": [
    "4) \n",
    "</br>\n",
    "Principal Component Analysis (PCA) is a dimensionality reduction technique commonly used for feature extraction. The relationship between PCA and feature extraction lies in PCA's ability to identify the most important features (principal components) in a dataset and represent the data using these components. Here's how PCA can be used for feature extraction:\n",
    "</br>\n",
    "Relationship between PCA and Feature Extraction:\n",
    "</br>\n",
    "Feature extraction involves transforming the original set of features into a new, reduced set of features that captures the essential information in the data.\n",
    "PCA achieves feature extraction by identifying the orthogonal axes (principal components) in the feature space that capture the maximum variance in the data.\n",
    "These principal components represent combinations of the original features that explain the most significant amount of variability in the dataset.\n",
    "By retaining a subset of the principal components that explain most of the variance, PCA effectively extracts the most important features from the original dataset while reducing its dimensionality.\n",
    "</br>\n",
    "Example:\n",
    "Let's consider an example of using PCA for feature extraction in a dataset containing information about houses, such as size (in square feet), number of bedrooms, number of bathrooms, and price (in dollars). We want to extract the most important features that contribute to the variability in house prices."
   ]
  },
  {
   "cell_type": "code",
   "execution_count": 1,
   "id": "e789aa88-872d-4dff-8cc0-96db9cf72a17",
   "metadata": {},
   "outputs": [
    {
     "name": "stdout",
     "output_type": "stream",
     "text": [
      "Explained Variance Ratio: [9.99999049e-01 9.51236298e-07]\n",
      "Extracted Features (Principal Components):\n",
      "[[-9.34747525e-19  3.83360097e-16]\n",
      " [ 5.00001962e+02 -1.95062200e-01]\n",
      " [-5.00001962e+02  1.95062200e-01]\n",
      " [ 1.99999405e+02  4.87658863e-01]\n",
      " [-1.99999405e+02 -4.87658863e-01]]\n"
     ]
    }
   ],
   "source": [
    "import numpy as np\n",
    "from sklearn.decomposition import PCA\n",
    "\n",
    "# Sample dataset representing houses (rows) and features (columns)\n",
    "houses_data = np.array([\n",
    "    [2000, 3, 2, 300000],   # House 1\n",
    "    [1500, 2, 1, 200000],   # House 2\n",
    "    [2500, 4, 3, 400000],   # House 3\n",
    "    [1800, 3, 2, 250000],   # House 4\n",
    "    [2200, 3, 2, 350000]    # House 5\n",
    "])\n",
    "\n",
    "# Separate features (X) and target variable (y)\n",
    "X = houses_data[:, :-1]  # Features: size, bedrooms, bathrooms\n",
    "y = houses_data[:, -1]   # Target variable: price\n",
    "\n",
    "# Perform PCA for feature extraction\n",
    "pca = PCA(n_components=2)  # Reduce to 2 principal components\n",
    "X_pca = pca.fit_transform(X)\n",
    "\n",
    "# Print explained variance ratio (proportion of variance explained by each principal component)\n",
    "print(\"Explained Variance Ratio:\", pca.explained_variance_ratio_)\n",
    "\n",
    "# Extracted features (principal components)\n",
    "print(\"Extracted Features (Principal Components):\")\n",
    "print(X_pca)"
   ]
  },
  {
   "cell_type": "code",
   "execution_count": null,
   "id": "37bb2aee-f4d1-4b25-800c-3db679426853",
   "metadata": {},
   "outputs": [],
   "source": []
  },
  {
   "cell_type": "markdown",
   "id": "ac9db9ba-390d-4a4f-a314-d76437496596",
   "metadata": {},
   "source": [
    "5) \n",
    "</br>\n",
    "In the context of building a recommendation system for a food delivery service, Min-Max scaling can be used to preprocess the dataset containing features such as price, rating, and delivery time. Min-Max scaling is a data normalization technique that scales the features to a fixed range (typically between 0 and 1) by subtracting the minimum value and dividing by the range of the feature. Here's how you could use Min-Max scaling to preprocess the data:\n",
    "</br>\n",
    "Understand the Features:\n",
    "</br>\n",
    "Review the dataset to identify the features that need to be scaled using Min-Max scaling.\n",
    "In this case, the features may include price (in dollars), rating (on a scale of 0 to 5), and delivery time (in minutes).\n",
    "</br>\n",
    "Calculate Min-Max Values:\n",
    "</br>\n",
    "For each feature, calculate the minimum and maximum values in the dataset.\n",
    "These values will be used to scale the features to the desired range (e.g., 0 to 1).\n",
    "</br>\n",
    "Apply Min-Max Scaling:\n",
    "For each feature, apply the Min-Max scaling formula to scale the values to the range [0, 1].\n",
    "The Min-Max scaling formula for a feature \n",
    "</br>\n",
    "This formula subtracts the minimum value of the feature and divides by the range (the difference between the maximum and minimum values), ensuring that the scaled values fall within the range [0, 1].\n",
    "</br>\n",
    "Preprocess the Data:\n",
    "</br>\n",
    "Apply Min-Max scaling to each feature in the dataset.\n",
    "Replace the original feature values with their scaled counterparts.\n",
    "</br>\n",
    "Use the Scaled Data for Recommendation:\n",
    "</br>\n",
    "Use the preprocessed, scaled data as input to the recommendation system algorithm.\n",
    "The scaled features ensure that all features contribute equally to the recommendation process, regardless of their original scale."
   ]
  },
  {
   "cell_type": "code",
   "execution_count": 2,
   "id": "ed702878-95d1-46bd-80b4-207cd88201ce",
   "metadata": {},
   "outputs": [
    {
     "name": "stdout",
     "output_type": "stream",
     "text": [
      "Scaled Data:\n",
      "[[0.         0.76923077 0.        ]\n",
      " [0.5        0.38461538 0.5       ]\n",
      " [0.25       1.         0.25      ]\n",
      " [0.75       0.         0.75      ]\n",
      " [1.         0.53846154 1.        ]]\n"
     ]
    }
   ],
   "source": [
    "import numpy as np\n",
    "from sklearn.preprocessing import MinMaxScaler\n",
    "\n",
    "# Sample dataset representing food delivery service features (price, rating, delivery time)\n",
    "delivery_data = np.array([\n",
    "    [10, 4.5, 30],    # Restaurant 1\n",
    "    [20, 4.0, 40],    # Restaurant 2\n",
    "    [15, 4.8, 35],    # Restaurant 3\n",
    "    [25, 3.5, 45],    # Restaurant 4\n",
    "    [30, 4.2, 50]     # Restaurant 5\n",
    "])\n",
    "\n",
    "# Separate features (X) and target variable (y)\n",
    "X = delivery_data[:, :]  # Features: price, rating, delivery time\n",
    "\n",
    "# Apply Min-Max scaling to preprocess the data\n",
    "scaler = MinMaxScaler()\n",
    "X_scaled = scaler.fit_transform(X)\n",
    "\n",
    "# Print the scaled data\n",
    "print(\"Scaled Data:\")\n",
    "print(X_scaled)"
   ]
  },
  {
   "cell_type": "code",
   "execution_count": null,
   "id": "c7ecfa64-ced1-4bd4-b031-c1fd63f9018b",
   "metadata": {},
   "outputs": [],
   "source": []
  },
  {
   "cell_type": "markdown",
   "id": "c0c9b87d-1513-4b36-b1b7-a10b75b94df1",
   "metadata": {},
   "source": [
    "6) \n",
    "</br>\n",
    "In the context of building a model to predict stock prices using a dataset containing many features such as company financial data and market trends, Principal Component Analysis (PCA) can be used to reduce the dimensionality of the dataset. PCA is a dimensionality reduction technique that identifies the most important features (principal components) in the dataset and represents the data using these components. Here's how you could use PCA to reduce the dimensionality of the dataset:\n",
    "</br>\n",
    "Feature Selection:\n",
    "</br>\n",
    "Identify the features in the dataset that are relevant for predicting stock prices.\n",
    "These features may include company financial metrics (e.g., revenue, earnings per share), market indicators (e.g., stock market indices, interest rates), and other factors that influence stock prices.\n",
    "</br>\n",
    "Standardization:\n",
    "</br>\n",
    "Standardize the features by subtracting the mean and dividing by the standard deviation.\n",
    "Standardization ensures that all features have a mean of 0 and a standard deviation of 1, which is a requirement for PCA to work effectively.\n",
    "</br>\n",
    "Perform PCA:\n",
    "</br>\n",
    "Apply PCA to the standardized dataset to reduce its dimensionality.\n",
    "PCA identifies the orthogonal axes (principal components) in the feature space that capture the maximum variance in the data.\n",
    "The number of principal components to retain is a hyperparameter that can be chosen based on the desired amount of variance explained or the desired number of features in the reduced dataset.\n",
    "</br>\n",
    "Select Number of Principal Components:\n",
    "</br>\n",
    "Determine the number of principal components to retain based on the amount of variance explained.\n",
    "You can visualize the cumulative explained variance ratio and choose the number of principal components that capture a sufficient amount of variance (e.g., 95% or 99%).\n",
    "</br>\n",
    "Transform Data:\n",
    "</br>\n",
    "Transform the original dataset using the selected number of principal components.\n",
    "This yields a reduced-dimensional dataset where each observation is represented by a smaller set of principal components instead of the original features.\n",
    "</br>\n",
    "Model Training and Evaluation:\n",
    "</br>\n",
    "Train machine learning models (e.g., regression models, neural networks) using the reduced-dimensional dataset.\n",
    "Evaluate the performance of the models on a validation set or through cross-validation to assess their ability to predict stock prices accurately."
   ]
  },
  {
   "cell_type": "code",
   "execution_count": 3,
   "id": "672d1345-e020-4ec6-bf88-8d9816b37c99",
   "metadata": {},
   "outputs": [
    {
     "name": "stdout",
     "output_type": "stream",
     "text": [
      "Explained Variance Ratio: [0.63586812 0.2774277 ]\n",
      "Reduced Dimensional Data (2 Principal Components):\n",
      "[[-1.62141296  0.14848844]\n",
      " [ 2.58234943 -0.87545584]\n",
      " [-0.29987564  1.46609643]\n",
      " [-1.57781303 -1.45064907]\n",
      " [ 0.91675219  0.71152004]]\n"
     ]
    }
   ],
   "source": [
    "import numpy as np\n",
    "from sklearn.decomposition import PCA\n",
    "from sklearn.preprocessing import StandardScaler\n",
    "\n",
    "# Sample dataset representing stock price prediction features (company financial data and market trends)\n",
    "stock_data = np.array([\n",
    "    [100, 20, 300, 50],    # Company 1\n",
    "    [150, 25, 280, 55],    # Company 2\n",
    "    [120, 22, 320, 52],    # Company 3\n",
    "    [130, 18, 290, 48],    # Company 4\n",
    "    [140, 23, 310, 53]     # Company 5\n",
    "])\n",
    "\n",
    "# Standardize the features\n",
    "scaler = StandardScaler()\n",
    "stock_data_scaled = scaler.fit_transform(stock_data)\n",
    "\n",
    "# Perform PCA for dimensionality reduction\n",
    "pca = PCA(n_components=2)  # Reduce to 2 principal components\n",
    "stock_data_reduced = pca.fit_transform(stock_data_scaled)\n",
    "\n",
    "# Print explained variance ratio\n",
    "print(\"Explained Variance Ratio:\", pca.explained_variance_ratio_)\n",
    "\n",
    "# Print transformed data\n",
    "print(\"Reduced Dimensional Data (2 Principal Components):\")\n",
    "print(stock_data_reduced)"
   ]
  },
  {
   "cell_type": "code",
   "execution_count": null,
   "id": "196fe864-696b-4f9f-bb9d-6a9b1a3a48df",
   "metadata": {},
   "outputs": [],
   "source": []
  },
  {
   "cell_type": "markdown",
   "id": "26af360a-05f4-4bb5-aa32-6e3dcda5a665",
   "metadata": {},
   "source": [
    "7) \n",
    "</br>\n",
    "To perform Min-Max scaling on a dataset containing the values [1, 5, 10, 15, 20] and transform the values to a range of -1 to 1, you can follow these steps:\n",
    "</br>\n",
    "Calculate the minimum and maximum values in the dataset.\n",
    "</br>\n",
    "Apply the Min-Max scaling formula to each value in the dataset.\n",
    "</br>\n",
    "Scale the values to the desired range of -1 to 1."
   ]
  },
  {
   "cell_type": "code",
   "execution_count": 4,
   "id": "89759ca7-0e4c-45f1-9270-5342daf0c519",
   "metadata": {},
   "outputs": [
    {
     "name": "stdout",
     "output_type": "stream",
     "text": [
      "Original Data: [ 1  5 10 15 20]\n",
      "Scaled Data (-1 to 1): [-1.         -0.57894737 -0.05263158  0.47368421  1.        ]\n"
     ]
    }
   ],
   "source": [
    "import numpy as np\n",
    "\n",
    "# Original dataset\n",
    "data = np.array([1, 5, 10, 15, 20])\n",
    "\n",
    "# Calculate minimum and maximum values\n",
    "min_value = np.min(data)\n",
    "max_value = np.max(data)\n",
    "\n",
    "# Define the desired range for scaling\n",
    "min_range = -1\n",
    "max_range = 1\n",
    "\n",
    "# Apply Min-Max scaling to transform the values\n",
    "scaled_data = min_range + ((data - min_value) * (max_range - min_range)) / (max_value - min_value)\n",
    "\n",
    "# Print the scaled data\n",
    "print(\"Original Data:\", data)\n",
    "print(\"Scaled Data (-1 to 1):\", scaled_data)"
   ]
  },
  {
   "cell_type": "code",
   "execution_count": null,
   "id": "1fd37054-482d-4ef7-9578-a14842153ea4",
   "metadata": {},
   "outputs": [],
   "source": []
  },
  {
   "cell_type": "markdown",
   "id": "af8ca48e-becc-4e4a-998c-e2ab58d1691a",
   "metadata": {},
   "source": [
    "8) \n",
    "</br>\n",
    "To perform feature extraction using PCA on a dataset containing features such as height, weight, age, gender, and blood pressure, we first need to standardize the features and then apply PCA to identify the principal components. The number of principal components to retain depends on the desired amount of variance explained and the trade-off between dimensionality reduction and information preservation. Here's how we can approach this:\n",
    "</br>\n",
    "Standardize the Features:\n",
    "</br>\n",
    "Standardize the features to ensure that they have zero mean and unit variance. This step is essential for PCA to work effectively, as it is sensitive to the scale of the features.\n",
    "</br>\n",
    "Apply PCA:\n",
    "</br>\n",
    "Apply PCA to the standardized dataset to identify the principal components.\n",
    "</br>\n",
    "PCA will calculate the principal components, which are linear combinations of the original features that capture the maximum variance in the data.\n",
    "</br>\n",
    "Choose the Number of Principal Components:\n",
    "</br>\n",
    "Determine the number of principal components to retain based on the cumulative explained variance ratio.\n",
    "The cumulative explained variance ratio represents the proportion of variance explained by each principal component, summed over all components.\n",
    "You can visualize the cumulative explained variance ratio and choose the number of principal components that capture a sufficient amount of variance (e.g., 95% or 99%)."
   ]
  },
  {
   "cell_type": "code",
   "execution_count": 5,
   "id": "1bca16f3-d9a2-46ba-9d55-ae6a17a023af",
   "metadata": {},
   "outputs": [
    {
     "name": "stdout",
     "output_type": "stream",
     "text": [
      "Cumulative Explained Variance Ratio: [0.93932553 0.98886622 0.99774505 1.         1.        ]\n"
     ]
    },
    {
     "data": {
      "image/png": "[encoded data removed]",
      "text/plain": [
       "<Figure size 640x480 with 1 Axes>"
      ]
     },
     "metadata": {},
     "output_type": "display_data"
    }
   ],
   "source": [
    "import numpy as np\n",
    "from sklearn.decomposition import PCA\n",
    "from sklearn.preprocessing import StandardScaler\n",
    "\n",
    "# Sample dataset representing features (height, weight, age, gender, blood pressure)\n",
    "data = np.array([\n",
    "    [160, 60, 30, 0, 120],    # Sample 1\n",
    "    [170, 65, 35, 1, 130],    # Sample 2\n",
    "    [155, 55, 25, 0, 110],    # Sample 3\n",
    "    [180, 70, 40, 1, 140],    # Sample 4\n",
    "    [165, 58, 32, 0, 125]     # Sample 5\n",
    "])\n",
    "\n",
    "# Standardize the features\n",
    "scaler = StandardScaler()\n",
    "data_scaled = scaler.fit_transform(data)\n",
    "\n",
    "# Apply PCA\n",
    "pca = PCA()\n",
    "data_pca = pca.fit_transform(data_scaled)\n",
    "\n",
    "# Calculate explained variance ratio\n",
    "explained_variance_ratio = pca.explained_variance_ratio_\n",
    "cumulative_explained_variance_ratio = np.cumsum(explained_variance_ratio)\n",
    "\n",
    "# Print cumulative explained variance ratio\n",
    "print(\"Cumulative Explained Variance Ratio:\", cumulative_explained_variance_ratio)\n",
    "\n",
    "# Plot explained variance ratio\n",
    "import matplotlib.pyplot as plt\n",
    "plt.plot(np.arange(1, len(cumulative_explained_variance_ratio) + 1), cumulative_explained_variance_ratio, marker='o')\n",
    "plt.xlabel('Number of Principal Components')\n",
    "plt.ylabel('Cumulative Explained Variance Ratio')\n",
    "plt.title('Cumulative Explained Variance Ratio vs. Number of Principal Components')\n",
    "plt.grid(True)\n",
    "plt.show()"
   ]
  }
 ],
 "metadata": {
  "kernelspec": {
   "display_name": "Python 3 (ipykernel)",
   "language": "python",
   "name": "python3"
  },
  "language_info": {
   "codemirror_mode": {
    "name": "ipython",
    "version": 3
   },
   "file_extension": ".py",
   "mimetype": "text/x-python",
   "name": "python",
   "nbconvert_exporter": "python",
   "pygments_lexer": "ipython3",
   "version": "3.10.8"
  }
 },
 "nbformat": 4,
 "nbformat_minor": 5
}
